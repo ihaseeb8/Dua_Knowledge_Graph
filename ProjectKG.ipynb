{
 "cells": [
  {
   "cell_type": "markdown",
   "id": "70adeeea",
   "metadata": {},
   "source": [
    "### Loading Quran Data Into a Graph\n"
   ]
  },
  {
   "cell_type": "code",
   "execution_count": 1,
   "id": "4a9660b1",
   "metadata": {},
   "outputs": [
    {
     "data": {
      "text/plain": [
       "<Graph identifier=Nd170def763d84ce98b4d702bb9e2a138 (<class 'rdflib.graph.Graph'>)>"
      ]
     },
     "execution_count": 1,
     "metadata": {},
     "output_type": "execute_result"
    }
   ],
   "source": [
    "from rdflib import Graph, Namespace\n",
    "from rdflib.namespace import RDF\n",
    "\n",
    "g_quran = Graph()\n",
    "g_quran.parse(\"quran_data_full.ttl\", format=\"turtle\")\n"
   ]
  },
  {
   "cell_type": "markdown",
   "id": "f5e9bf63",
   "metadata": {},
   "source": [
    "### Loading Semantic Hadith Data Into a Graph\n"
   ]
  },
  {
   "cell_type": "code",
   "execution_count": 2,
   "id": "11b11ada",
   "metadata": {},
   "outputs": [
    {
     "data": {
      "text/plain": [
       "<Graph identifier=N59b6629e130849868947a298f3f3f16a (<class 'rdflib.graph.Graph'>)>"
      ]
     },
     "execution_count": 2,
     "metadata": {},
     "output_type": "execute_result"
    }
   ],
   "source": [
    "\n",
    "\n",
    "g_hadith = Graph()\n",
    "g_hadith.parse(\"SemanticHadithKG.rdf\")\n",
    "\n",
    "\n"
   ]
  },
  {
   "cell_type": "markdown",
   "id": "3a789ac6",
   "metadata": {},
   "source": [
    "#### Loading Duas Data Into a Graph\n"
   ]
  },
  {
   "cell_type": "code",
   "execution_count": 3,
   "id": "9a6f99a7",
   "metadata": {},
   "outputs": [
    {
     "data": {
      "text/plain": [
       "<Graph identifier=N88eabd331e45449e9baa7d71207e7bc9 (<class 'rdflib.graph.Graph'>)>"
      ]
     },
     "execution_count": 3,
     "metadata": {},
     "output_type": "execute_result"
    }
   ],
   "source": [
    "g_dua = Graph()\n",
    "g_dua.parse(\"Populated_Dua_KG.ttl\", format=\"turtle\")\n"
   ]
  },
  {
   "cell_type": "markdown",
   "id": "19d098a6",
   "metadata": {},
   "source": [
    "#### Running a simple query on Duas Graph"
   ]
  },
  {
   "cell_type": "code",
   "execution_count": 4,
   "id": "4d708c26",
   "metadata": {},
   "outputs": [
    {
     "name": "stdout",
     "output_type": "stream",
     "text": [
      " http://www.semanticweb.org/szm/dua-ontology#Dua-Accepted-01 None None\n",
      " http://www.semanticweb.org/szm/dua-ontology#Dua-Accepted-02 None None\n",
      " http://www.semanticweb.org/szm/dua-ontology#Dua-Accepted-03 None None\n",
      " http://www.semanticweb.org/szm/dua-ontology#Dua-Accepted-04 None None\n",
      " http://www.semanticweb.org/szm/dua-ontology#Dua-Accepted-05 None None\n",
      " http://www.semanticweb.org/szm/dua-ontology#Dua-Accepted-06 None None\n",
      " http://www.semanticweb.org/szm/dua-ontology#Dua-AfterSalah-01 None None\n",
      " http://www.semanticweb.org/szm/dua-ontology#Dua-AfterSalah-02 None None\n",
      " http://www.semanticweb.org/szm/dua-ontology#Dua-AfterSalah-03 None None\n",
      " http://www.semanticweb.org/szm/dua-ontology#Dua-AfterSalah-04 None None\n"
     ]
    }
   ],
   "source": [
    "qres = g_dua.query(\n",
    "    \"\"\"\n",
    "        PREFIX : <http://www.semanticweb.org/szm/dua-ontology#>\n",
    "        SELECT ?s ?p ?o \n",
    "        WHERE {\n",
    "            ?s rdf:type :Dua .\n",
    "        }\n",
    "        LIMIT 10\n",
    "    \"\"\"\n",
    ")\n",
    "\n",
    "# Print the results\n",
    "for row in qres:\n",
    "    print(f' {row.s} {row.p} {row.o}')\n",
    "    "
   ]
  },
  {
   "cell_type": "markdown",
   "id": "e0e5760e",
   "metadata": {},
   "source": [
    "#### Running a simple query on Quran's Graph"
   ]
  },
  {
   "cell_type": "code",
   "execution_count": 5,
   "id": "91dd2691",
   "metadata": {},
   "outputs": [
    {
     "name": "stdout",
     "output_type": "stream",
     "text": [
      "<http://quranontology.com/Resource/quran30-34-6-1> <http://quranontology.com/Resource/RefTo> <http://quranontology.com/Resource/quranRef57>.\n",
      "<http://quranontology.com/Resource/quran22-34-17-1> <http://www.w3.org/1999/02/22-rdf-syntax-ns#type> <http://quranontology.com/Resource/PronounRefSameVerse>.\n",
      "<http://quranontology.com/Resource/quran29-25-20> <http://www.w3.org/2000/01/rdf-schema#label> <بعضكم>.\n",
      "<http://quranontology.com/Resource/quran46-13-12> <http://www.w3.org/1999/02/22-rdf-syntax-ns#type> <http://www.w3.org/2002/07/owl#NamedIndividual>.\n",
      "<http://quranontology.com/Resource/quran17-93-26> <http://quranontology.com/Resource/WordIndex> <26>.\n",
      "<http://quranontology.com/Resource/quran20-34> <http://quranontology.com/Resource/ChapterIndex> <20>.\n",
      "<http://quranontology.com/Resource/quran25-14-2> <http://www.w3.org/2002/07/owl#SameAs> <http://corpus.quran.com/wordmorphology.jsp?location=(25:14:2)>.\n",
      "<http://quranontology.com/Resource/quran20-93-2> <http://quranontology.com/Resource/WordIndex> <2>.\n",
      "<http://quranontology.com/Resource/quran28-23-25-1> <http://quranontology.com/Resource/IsPartOf> <http://quranontology.com/Resource/quran28-23>.\n",
      "<http://quranontology.com/Resource/quran73-20-39> <http://quranontology.com/Resource/WordIndex> <39>.\n"
     ]
    }
   ],
   "source": [
    "# Run the query\n",
    "qres = g_quran.query(\n",
    "    \"\"\"\n",
    "        SELECT ?s ?p ?o \n",
    "        WHERE {\n",
    "            ?s ?p ?o .\n",
    "        }\n",
    "        LIMIT 10\n",
    "    \"\"\"\n",
    ")\n",
    "\n",
    "# Print the results\n",
    "for row in qres:\n",
    "    print(\"<%s> <%s> <%s>.\" % ( row.s, row.p, row.o))\n"
   ]
  },
  {
   "cell_type": "markdown",
   "id": "39698590",
   "metadata": {},
   "source": [
    "#### Running a query to fetch verses and their labels"
   ]
  },
  {
   "cell_type": "code",
   "execution_count": 6,
   "id": "d9a834ad",
   "metadata": {},
   "outputs": [
    {
     "name": "stdout",
     "output_type": "stream",
     "text": [
      "Verse: http://quranontology.com/Resource/quran101-1 RDFS:Label : القارعة\n",
      "Verse: http://quranontology.com/Resource/quran101-1 RDFS:Label : The Striking Calamity -\n",
      "Verse: http://quranontology.com/Resource/quran19-1 RDFS:Label : كهيعص\n",
      "Verse: http://quranontology.com/Resource/quran19-1 RDFS:Label : Kaf, Ha, Ya, 'Ayn, Sad.\n",
      "Verse: http://quranontology.com/Resource/quran2-1 RDFS:Label : الم\n",
      "Verse: http://quranontology.com/Resource/quran2-1 RDFS:Label : Alif, Lam, Meem.\n",
      "Verse: http://quranontology.com/Resource/quran20-1 RDFS:Label : طه\n",
      "Verse: http://quranontology.com/Resource/quran20-1 RDFS:Label : Ta, Ha.\n",
      "Verse: http://quranontology.com/Resource/quran26-1 RDFS:Label : طسم\n",
      "Verse: http://quranontology.com/Resource/quran26-1 RDFS:Label : Ta, Seen, Meem.\n"
     ]
    }
   ],
   "source": [
    "qres = g_quran.query(\n",
    "    \n",
    "    \"\"\"\n",
    "    PREFIX : <http://quranontology.com/Resource/>\n",
    "    SELECT ?s ?p ?o\n",
    "    WHERE {\n",
    "        ?s rdf:type :Verse .\n",
    "        ?s rdfs:label ?o\n",
    "    }\n",
    "    LIMIT 10\n",
    "\n",
    "    \"\"\"\n",
    ")\n",
    "\n",
    "# Print the results\n",
    "for row in qres:\n",
    "    print(f'Verse: {row.s} RDFS:Label : {row.o}')\n",
    "    "
   ]
  },
  {
   "cell_type": "markdown",
   "id": "8685d9da",
   "metadata": {},
   "source": [
    "#### Findind tuples linked with predicate ' :MentionedIn ' "
   ]
  },
  {
   "cell_type": "code",
   "execution_count": 7,
   "id": "2b866caa",
   "metadata": {},
   "outputs": [
    {
     "name": "stdout",
     "output_type": "stream",
     "text": [
      " res 1 http://quranontology.com/Resource/Acacia :MentionedIn http://quranontology.com/Resource/quran56-29\n",
      " res 2 http://quranontology.com/Resource/Afternoon :MentionedIn http://quranontology.com/Resource/quran24-58\n",
      " res 3 http://quranontology.com/Resource/Late-Afternoon :MentionedIn http://quranontology.com/Resource/quran24-58\n",
      " res 4 http://quranontology.com/Resource/Dawn :MentionedIn http://quranontology.com/Resource/quran24-58\n",
      " res 5 http://quranontology.com/Resource/Ahmad :MentionedIn http://quranontology.com/Resource/quran61-6\n",
      " res 6 http://quranontology.com/Resource/Israel :MentionedIn http://quranontology.com/Resource/quran61-6\n",
      " res 7 http://quranontology.com/Resource/Maryam :MentionedIn http://quranontology.com/Resource/quran61-6\n",
      " res 8 http://quranontology.com/Resource/Jesus :MentionedIn http://quranontology.com/Resource/quran61-6\n",
      " res 9 http://quranontology.com/Resource/Children-of-Israel :MentionedIn http://quranontology.com/Resource/quran61-6\n",
      " res 10 http://quranontology.com/Resource/Al-Aaraf :MentionedIn http://quranontology.com/Resource/quran7-46\n"
     ]
    }
   ],
   "source": [
    "qres = g_quran.query(\n",
    "    \n",
    "    \"\"\"\n",
    "    PREFIX : <http://quranontology.com/Resource/>\n",
    "    SELECT ?s ?o\n",
    "    WHERE {\n",
    "        ?s :MentionedIn ?o .\n",
    "    }\n",
    "    Limit 10\n",
    "\n",
    "    \"\"\"\n",
    "    \n",
    ")\n",
    "\n",
    "i = 1\n",
    "\n",
    "# Print the results\n",
    "for row in qres:\n",
    "    print(f' res {i} {row.s} :MentionedIn {row.o}')\n",
    "    i += 1"
   ]
  },
  {
   "cell_type": "markdown",
   "id": "fd33cecb",
   "metadata": {},
   "source": [
    "####  Running a simple query on hadith graph"
   ]
  },
  {
   "cell_type": "code",
   "execution_count": 8,
   "id": "27aeecf5",
   "metadata": {},
   "outputs": [
    {
     "name": "stdout",
     "output_type": "stream",
     "text": [
      "<http://www.i-knex.com/ontology/hadith#SB-HD4134-ChainSeg-6> <http://www.i-knex.com/ontology/hadith#refersToNarrator> <http://www.i-knex.com/ontology/hadith#HN02069>.\n",
      "<http://www.i-knex.com/ontology/hadith#SB-HD2780-ChainSeg-1> <http://www.w3.org/1999/02/22-rdf-syntax-ns#type> <http://www.w3.org/2002/07/owl#NamedIndividual>.\n",
      "<http://www.i-knex.com/ontology/hadith#SB-HD5261-ChainSeg-2> <http://www.i-knex.com/ontology/hadith#follows> <http://www.i-knex.com/ontology/hadith#SB-HD5261-ChainSeg-3>.\n",
      "<http://www.i-knex.com/ontology/hadith#SB-HD2625-ChainSeg-4> <http://www.i-knex.com/ontology/hadith#precedes> <http://www.i-knex.com/ontology/hadith#SB-HD2625-ChainSeg-3>.\n",
      "<http://www.i-knex.com/ontology/hadith#HN00547> <http://www.i-knex.com/ontology/hadith#lineage> <التجيبي, المصري>.\n",
      "<http://www.i-knex.com/ontology/hadith#HN02095> <http://www.i-knex.com/ontology/hadith#generation> <3? >.\n",
      "<http://www.i-knex.com/ontology/hadith#HN01039> <http://www.i-knex.com/ontology/hadith#residence> <دمشق, الشام>.\n",
      "<http://www.i-knex.com/ontology/hadith#SB-HD2311-Text> <http://www.i-knex.com/ontology/hadith#hadithText> <Allah's Messenger (ﷺ) deputed me to keep Sadaqat (al-Fitr) of Ramadan. A comer came and started taking handfuls of the foodstuff (of the Sadaqa) (stealthily). I took hold of him and said, \"By Allah, I will take you to Allah's Messenger (ﷺ) .\" He said, \"I am needy and have many dependents, and I am in great need.\" I released him, and in the morning Allah's Messenger (ﷺ) asked me, \"What did your prisoner do yesterday?\" I said, \"O Allah's Messenger (ﷺ)! The person complained of being needy and of having many dependents, so, I pitied him and let him go.\" Allah's Messenger (ﷺ) said, \"Indeed, he told you a lie and he will be coming again.\" I believed that he would show up again as Allah's Messenger (ﷺ) had told me that he would return. So, I waited for him watchfully. When he (showed up and) started stealing handfuls of foodstuff, I caught hold of him again and said, \"I will definitely take you to Allah's Messenger (ﷺ). He said, \"Leave me, for I am very needy and have many dependents. I promise I will not come back again.\" I pitied him and let him go. In the morning Allah's Messenger (ﷺ) asked me, \"What did your prisoner do.\" I replied, \"O Allah's Messenger (ﷺ)! He complained of his great need and of too many dependents, so I took pity on him and set him free.\" Allah's Apostle said, \"Verily, he told you a lie and he will return.\" I waited for him attentively for the third time, and when he (came and) started stealing handfuls of the foodstuff, I caught hold of him and said, \"I will surely take you to Allah's Messenger (ﷺ) as it is the third time you promise not to return, yet you break your promise and come.\" He said, \"(Forgive me and) I will teach you some words with which Allah will benefit you.\" I asked, \"What are they?\" He replied, \"Whenever you go to bed, recite \"Ayat-al-Kursi\"-- 'Allahu la ilaha illa huwa-l-Haiy-ul Qaiyum' till you finish the whole verse. (If you do so), Allah will appoint a guard for you who will stay with you and no satan will come near you till morning. \" So, I released him. In the morning, Allah's Apostle asked, \"What did your prisoner do yesterday?\" I replied, \"He claimed that he would teach me some words by which Allah will benefit me, so I let him go.\" Allah's Messenger (ﷺ) asked, \"What are they?\" I replied, \"He said to me, 'Whenever you go to bed, recite Ayat-al-Kursi from the beginning to the end ---- Allahu la ilaha illa huwa-lHaiy-ul-Qaiyum----.' He further said to me, '(If you do so), Allah will appoint a guard for you who will stay with you, and no satan will come near you till morning.' (Abu Huraira or another sub-narrator) added that they (the companions) were very keen to do good deeds. The Prophet (ﷺ) said, \"He really spoke the truth, although he is an absolute liar. Do you know whom you were talking to, these three nights, O Abu Huraira?\" Abu Huraira said, \"No.\" He said, \"It was Satan.\"@en>.\n",
      "<http://www.i-knex.com/ontology/hadith#HN06715> <http://www.i-knex.com/ontology/hadith#heardFrom> <http://www.i-knex.com/ontology/hadith#HN04287>.\n",
      "<http://www.i-knex.com/ontology/hadith#SB-HD0168> <http://www.i-knex.com/ontology/hadith#sequenceNo> <211>.\n"
     ]
    }
   ],
   "source": [
    "# Run the query\n",
    "qres = g_hadith.query(\n",
    "    \"\"\"\n",
    "        SELECT ?s ?p ?o \n",
    "        WHERE {\n",
    "            ?s ?p ?o .\n",
    "        }\n",
    "        LIMIT 10\n",
    "    \"\"\"\n",
    ")\n",
    "\n",
    "# Print the results\n",
    "for row in qres:\n",
    "    print(\"<%s> <%s> <%s>.\" % ( row.s, row.p, row.o))\n"
   ]
  },
  {
   "cell_type": "code",
   "execution_count": null,
   "id": "e65c4446",
   "metadata": {},
   "outputs": [],
   "source": []
  }
 ],
 "metadata": {
  "kernelspec": {
   "display_name": "Python 3",
   "language": "python",
   "name": "python3"
  },
  "language_info": {
   "codemirror_mode": {
    "name": "ipython",
    "version": 3
   },
   "file_extension": ".py",
   "mimetype": "text/x-python",
   "name": "python",
   "nbconvert_exporter": "python",
   "pygments_lexer": "ipython3",
   "version": "3.10.7"
  },
  "vscode": {
   "interpreter": {
    "hash": "d1c5a74b68566f0894b744d1a1f0c9a5a53ffa4c43ccc6c995075c085608be16"
   }
  }
 },
 "nbformat": 4,
 "nbformat_minor": 5
}
